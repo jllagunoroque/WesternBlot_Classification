{
  "nbformat": 4,
  "nbformat_minor": 0,
  "metadata": {
    "colab": {
      "provenance": []
    },
    "kernelspec": {
      "name": "python3",
      "display_name": "Python 3"
    },
    "language_info": {
      "name": "python"
    }
  },
  "cells": [
    {
      "cell_type": "code",
      "source": [
        "import torch\n",
        "import torchvision\n",
        "from torchvision.transforms import transforms\n",
        "import torchvision.datasets as datasets\n",
        "import matplotlib.pyplot as plt\n",
        "from PIL import Image\n",
        "import numpy as np\n",
        "import cv2\n",
        "import os"
      ],
      "metadata": {
        "id": "s_x5u1rV02Mz"
      },
      "execution_count": null,
      "outputs": []
    },
    {
      "cell_type": "code",
      "execution_count": null,
      "metadata": {
        "id": "dqc_Sn7OvSaf"
      },
      "outputs": [],
      "source": [
        "def dataAugmentation(img_folder,val):\n",
        "  transform= transforms.RandomAffine(degrees=(10,30), translate=(0.1, 0.3), scale=(0.5,1), shear=0)\n",
        "  transform2= transforms.Compose([transforms.GaussianBlur(kernel_size=7)])\n",
        "  transform3= transforms.Compose([transforms.RandomHorizontalFlip(p=0.5)])\n",
        "  for dir1 in os.listdir(img_folder):\n",
        "    count2=(len(os.listdir(os.path.join(img_folder,dir1))))\n",
        "    count2+=1\n",
        "    while count2 <= val:\n",
        "      for file in os.listdir(os.path.join(img_folder, dir1)):\n",
        "        if count2 == val+1:\n",
        "          continue\n",
        "        image_path= os.path.join(img_folder, dir1, file)\n",
        "        image = Image.open(image_path)\n",
        "        new_image= transform(image)\n",
        "        new_image2= transform2(image)\n",
        "        new_image3= transform3(image)\n",
        "        path2=os.path.join(\"/content/gdrive/My Drive/ImagesADP2/\",dir1,dir1+\"p\"+\"{}.jpg\".format(count2))\n",
        "        new_image=new_image.save(path2)\n",
        "        count2+=1\n",
        "        path2=os.path.join(\"/content/gdrive/My Drive/ImagesADP2/\",dir1,dir1+\"p\"+\"{}.jpg\".format(count2))\n",
        "        new_image2=new_image2.save(path2)\n",
        "        count2+=1\n",
        "        path2=os.path.join(\"/content/gdrive/My Drive/ImagesADP2/\",dir1,dir1+\"p\"+\"{}.jpg\".format(count2))\n",
        "        new_image3=new_image3.save(path2)\n",
        "        count2+=1\n"
      ]
    },
    {
      "cell_type": "code",
      "source": [
        "#Mounting Google Drive\n",
        "from google.colab import drive\n",
        "drive.mount('/content/gdrive')"
      ],
      "metadata": {
        "id": "vqFP021WKP9y",
        "colab": {
          "base_uri": "https://localhost:8080/"
        },
        "outputId": "60366e11-0b6c-4124-b4ac-0027ba159cc6"
      },
      "execution_count": null,
      "outputs": [
        {
          "output_type": "stream",
          "name": "stdout",
          "text": [
            "Mounted at /content/gdrive\n"
          ]
        }
      ]
    },
    {
      "cell_type": "code",
      "source": [
        "c_root = '/content/gdrive/My Drive/Images/'\n",
        "dataAugmentation(c_root,250)"
      ],
      "metadata": {
        "id": "Ma13cOeBKRFW"
      },
      "execution_count": null,
      "outputs": []
    }
  ]
}